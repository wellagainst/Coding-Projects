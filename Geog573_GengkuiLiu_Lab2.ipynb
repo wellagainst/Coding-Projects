{
  "nbformat": 4,
  "nbformat_minor": 0,
  "metadata": {
    "colab": {
      "name": "GengkuiLiu_Lab2.ipynb",
      "provenance": [],
      "authorship_tag": "ABX9TyMzmODRiWLhfH5ETPdbC7Ze",
      "include_colab_link": true
    },
    "kernelspec": {
      "name": "python3",
      "display_name": "Python 3"
    },
    "language_info": {
      "name": "python"
    }
  },
  "cells": [
    {
      "cell_type": "markdown",
      "metadata": {
        "id": "view-in-github",
        "colab_type": "text"
      },
      "source": [
        "<a href=\"https://colab.research.google.com/github/wellagainst/Coding-Projects/blob/main/Geog573_GengkuiLiu_Lab2.ipynb\" target=\"_parent\"><img src=\"https://colab.research.google.com/assets/colab-badge.svg\" alt=\"Open In Colab\"/></a>"
      ]
    },
    {
      "cell_type": "markdown",
      "source": [
        "Task 1: Convert the CityPop.csv file to a JSON file, save as CityPop.json."
      ],
      "metadata": {
        "id": "V4WAN_sFjwX-"
      }
    },
    {
      "cell_type": "code",
      "execution_count": 4,
      "metadata": {
        "colab": {
          "base_uri": "https://localhost:8080/",
          "height": 206
        },
        "id": "IxU97DfRjSgt",
        "outputId": "b720fd88-fee9-4145-b27f-e67f1148165a"
      },
      "outputs": [
        {
          "output_type": "execute_result",
          "data": {
            "text/html": [
              "\n",
              "  <div id=\"df-715ee15a-493a-4b5a-9b21-49fcd04fa3a1\">\n",
              "    <div class=\"colab-df-container\">\n",
              "      <div>\n",
              "<style scoped>\n",
              "    .dataframe tbody tr th:only-of-type {\n",
              "        vertical-align: middle;\n",
              "    }\n",
              "\n",
              "    .dataframe tbody tr th {\n",
              "        vertical-align: top;\n",
              "    }\n",
              "\n",
              "    .dataframe thead th {\n",
              "        text-align: right;\n",
              "    }\n",
              "</style>\n",
              "<table border=\"1\" class=\"dataframe\">\n",
              "  <thead>\n",
              "    <tr style=\"text-align: right;\">\n",
              "      <th></th>\n",
              "      <th>id</th>\n",
              "      <th>latitude</th>\n",
              "      <th>longitude</th>\n",
              "      <th>city</th>\n",
              "      <th>label</th>\n",
              "      <th>yr1970</th>\n",
              "      <th>yr1975</th>\n",
              "      <th>yr1980</th>\n",
              "      <th>yr1985</th>\n",
              "      <th>yr1990</th>\n",
              "      <th>yr1995</th>\n",
              "      <th>yr2000</th>\n",
              "      <th>yr2005</th>\n",
              "      <th>yr2010</th>\n",
              "    </tr>\n",
              "  </thead>\n",
              "  <tbody>\n",
              "    <tr>\n",
              "      <th>0</th>\n",
              "      <td>1</td>\n",
              "      <td>35.683208</td>\n",
              "      <td>139.808945</td>\n",
              "      <td>Tokyo</td>\n",
              "      <td>Tokyo</td>\n",
              "      <td>23.30</td>\n",
              "      <td>26.61</td>\n",
              "      <td>28.55</td>\n",
              "      <td>30.30</td>\n",
              "      <td>32.53</td>\n",
              "      <td>33.59</td>\n",
              "      <td>34.45</td>\n",
              "      <td>35.62</td>\n",
              "      <td>36.67</td>\n",
              "    </tr>\n",
              "    <tr>\n",
              "      <th>1</th>\n",
              "      <td>2</td>\n",
              "      <td>28.608280</td>\n",
              "      <td>77.200813</td>\n",
              "      <td>New_Delhi</td>\n",
              "      <td>New Delhi</td>\n",
              "      <td>3.53</td>\n",
              "      <td>4.43</td>\n",
              "      <td>5.56</td>\n",
              "      <td>7.33</td>\n",
              "      <td>9.73</td>\n",
              "      <td>12.41</td>\n",
              "      <td>15.73</td>\n",
              "      <td>19.49</td>\n",
              "      <td>22.16</td>\n",
              "    </tr>\n",
              "    <tr>\n",
              "      <th>2</th>\n",
              "      <td>3</td>\n",
              "      <td>-23.562839</td>\n",
              "      <td>-46.654640</td>\n",
              "      <td>Sao_Paulo</td>\n",
              "      <td>Sao Paulo</td>\n",
              "      <td>7.62</td>\n",
              "      <td>9.61</td>\n",
              "      <td>12.09</td>\n",
              "      <td>13.39</td>\n",
              "      <td>14.78</td>\n",
              "      <td>15.95</td>\n",
              "      <td>17.10</td>\n",
              "      <td>18.65</td>\n",
              "      <td>20.26</td>\n",
              "    </tr>\n",
              "    <tr>\n",
              "      <th>3</th>\n",
              "      <td>4</td>\n",
              "      <td>18.930130</td>\n",
              "      <td>72.830093</td>\n",
              "      <td>Mumbai</td>\n",
              "      <td>Mumbai</td>\n",
              "      <td>5.81</td>\n",
              "      <td>7.08</td>\n",
              "      <td>8.66</td>\n",
              "      <td>10.34</td>\n",
              "      <td>12.31</td>\n",
              "      <td>14.11</td>\n",
              "      <td>16.09</td>\n",
              "      <td>18.21</td>\n",
              "      <td>20.04</td>\n",
              "    </tr>\n",
              "    <tr>\n",
              "      <th>4</th>\n",
              "      <td>5</td>\n",
              "      <td>19.431959</td>\n",
              "      <td>-99.133163</td>\n",
              "      <td>Mexico_City</td>\n",
              "      <td>Mexico City</td>\n",
              "      <td>8.77</td>\n",
              "      <td>10.69</td>\n",
              "      <td>13.01</td>\n",
              "      <td>14.11</td>\n",
              "      <td>15.31</td>\n",
              "      <td>16.81</td>\n",
              "      <td>18.02</td>\n",
              "      <td>18.73</td>\n",
              "      <td>19.46</td>\n",
              "    </tr>\n",
              "  </tbody>\n",
              "</table>\n",
              "</div>\n",
              "      <button class=\"colab-df-convert\" onclick=\"convertToInteractive('df-715ee15a-493a-4b5a-9b21-49fcd04fa3a1')\"\n",
              "              title=\"Convert this dataframe to an interactive table.\"\n",
              "              style=\"display:none;\">\n",
              "        \n",
              "  <svg xmlns=\"http://www.w3.org/2000/svg\" height=\"24px\"viewBox=\"0 0 24 24\"\n",
              "       width=\"24px\">\n",
              "    <path d=\"M0 0h24v24H0V0z\" fill=\"none\"/>\n",
              "    <path d=\"M18.56 5.44l.94 2.06.94-2.06 2.06-.94-2.06-.94-.94-2.06-.94 2.06-2.06.94zm-11 1L8.5 8.5l.94-2.06 2.06-.94-2.06-.94L8.5 2.5l-.94 2.06-2.06.94zm10 10l.94 2.06.94-2.06 2.06-.94-2.06-.94-.94-2.06-.94 2.06-2.06.94z\"/><path d=\"M17.41 7.96l-1.37-1.37c-.4-.4-.92-.59-1.43-.59-.52 0-1.04.2-1.43.59L10.3 9.45l-7.72 7.72c-.78.78-.78 2.05 0 2.83L4 21.41c.39.39.9.59 1.41.59.51 0 1.02-.2 1.41-.59l7.78-7.78 2.81-2.81c.8-.78.8-2.07 0-2.86zM5.41 20L4 18.59l7.72-7.72 1.47 1.35L5.41 20z\"/>\n",
              "  </svg>\n",
              "      </button>\n",
              "      \n",
              "  <style>\n",
              "    .colab-df-container {\n",
              "      display:flex;\n",
              "      flex-wrap:wrap;\n",
              "      gap: 12px;\n",
              "    }\n",
              "\n",
              "    .colab-df-convert {\n",
              "      background-color: #E8F0FE;\n",
              "      border: none;\n",
              "      border-radius: 50%;\n",
              "      cursor: pointer;\n",
              "      display: none;\n",
              "      fill: #1967D2;\n",
              "      height: 32px;\n",
              "      padding: 0 0 0 0;\n",
              "      width: 32px;\n",
              "    }\n",
              "\n",
              "    .colab-df-convert:hover {\n",
              "      background-color: #E2EBFA;\n",
              "      box-shadow: 0px 1px 2px rgba(60, 64, 67, 0.3), 0px 1px 3px 1px rgba(60, 64, 67, 0.15);\n",
              "      fill: #174EA6;\n",
              "    }\n",
              "\n",
              "    [theme=dark] .colab-df-convert {\n",
              "      background-color: #3B4455;\n",
              "      fill: #D2E3FC;\n",
              "    }\n",
              "\n",
              "    [theme=dark] .colab-df-convert:hover {\n",
              "      background-color: #434B5C;\n",
              "      box-shadow: 0px 1px 3px 1px rgba(0, 0, 0, 0.15);\n",
              "      filter: drop-shadow(0px 1px 2px rgba(0, 0, 0, 0.3));\n",
              "      fill: #FFFFFF;\n",
              "    }\n",
              "  </style>\n",
              "\n",
              "      <script>\n",
              "        const buttonEl =\n",
              "          document.querySelector('#df-715ee15a-493a-4b5a-9b21-49fcd04fa3a1 button.colab-df-convert');\n",
              "        buttonEl.style.display =\n",
              "          google.colab.kernel.accessAllowed ? 'block' : 'none';\n",
              "\n",
              "        async function convertToInteractive(key) {\n",
              "          const element = document.querySelector('#df-715ee15a-493a-4b5a-9b21-49fcd04fa3a1');\n",
              "          const dataTable =\n",
              "            await google.colab.kernel.invokeFunction('convertToInteractive',\n",
              "                                                     [key], {});\n",
              "          if (!dataTable) return;\n",
              "\n",
              "          const docLinkHtml = 'Like what you see? Visit the ' +\n",
              "            '<a target=\"_blank\" href=https://colab.research.google.com/notebooks/data_table.ipynb>data table notebook</a>'\n",
              "            + ' to learn more about interactive tables.';\n",
              "          element.innerHTML = '';\n",
              "          dataTable['output_type'] = 'display_data';\n",
              "          await google.colab.output.renderOutput(dataTable, element);\n",
              "          const docLink = document.createElement('div');\n",
              "          docLink.innerHTML = docLinkHtml;\n",
              "          element.appendChild(docLink);\n",
              "        }\n",
              "      </script>\n",
              "    </div>\n",
              "  </div>\n",
              "  "
            ],
            "text/plain": [
              "   id   latitude   longitude         city  ... yr1995  yr2000  yr2005  yr2010\n",
              "0   1  35.683208  139.808945        Tokyo  ...  33.59   34.45   35.62   36.67\n",
              "1   2  28.608280   77.200813    New_Delhi  ...  12.41   15.73   19.49   22.16\n",
              "2   3 -23.562839  -46.654640    Sao_Paulo  ...  15.95   17.10   18.65   20.26\n",
              "3   4  18.930130   72.830093       Mumbai  ...  14.11   16.09   18.21   20.04\n",
              "4   5  19.431959  -99.133163  Mexico_City  ...  16.81   18.02   18.73   19.46\n",
              "\n",
              "[5 rows x 14 columns]"
            ]
          },
          "metadata": {},
          "execution_count": 4
        }
      ],
      "source": [
        "import pandas as pd\n",
        "cityPop=pd.read_csv(\"CityPop.csv\")\n",
        "cityPop.head()"
      ]
    },
    {
      "cell_type": "code",
      "source": [
        "cityPop_list=[]\n",
        "for row in cityPop.itertuples(index=True):\n",
        "  city={}\n",
        "  city[\"id\"]=getattr(row, \"id\")\n",
        "  city[\"latitude\"]=getattr(row, \"latitude\")\n",
        "  city[\"longitude\"]=getattr(row, \"longitude\")\n",
        "  city[\"city\"]=getattr(row, \"city\")\n",
        "  city['label'] =  getattr(row, \"label\")# cityname\n",
        "  city['yr1970'] = getattr(row, \"yr1970\")# yr1970\n",
        "  city['yr1975'] = getattr(row, \"yr1975\") # yr1975\n",
        "  city['yr1980'] = getattr(row, \"yr1980\") # yr1980\n",
        "  city['yr1985'] = getattr(row, \"yr1985\") # yr1985\n",
        "  city['yr1990'] = getattr(row, \"yr1990\") # yr1990\n",
        "  city['yr1995'] = getattr(row, \"yr1995\") # yr1995\n",
        "  city['yr2000'] = getattr(row, \"yr2000\") # yr2000\n",
        "  city['yr2005'] = getattr(row, \"yr2005\") # yr2005\n",
        "  city['yr2010'] = getattr(row, \"yr2010\") # yr2010\n",
        "\n",
        "  cityPop_list.append(city)\n",
        "print(cityPop_list)"
      ],
      "metadata": {
        "colab": {
          "base_uri": "https://localhost:8080/"
        },
        "id": "tDfJA558kbM6",
        "outputId": "b6bf6abc-6a25-40c7-eeb4-e3ff512fa03b"
      },
      "execution_count": 11,
      "outputs": [
        {
          "output_type": "stream",
          "name": "stdout",
          "text": [
            "[{'id': 1, 'latitude': 35.6832085, 'longitude': 139.8089447, 'city': 'Tokyo', 'label': 'Tokyo', 'yr1970': 23.3, 'yr1975': 26.61, 'yr1980': 28.55, 'yr1985': 30.3, 'yr1990': 32.53, 'yr1995': 33.59, 'yr2000': 34.45, 'yr2005': 35.62, 'yr2010': 36.67}, {'id': 2, 'latitude': 28.6082802, 'longitude': 77.2008133, 'city': 'New_Delhi', 'label': 'New Delhi', 'yr1970': 3.53, 'yr1975': 4.43, 'yr1980': 5.56, 'yr1985': 7.33, 'yr1990': 9.73, 'yr1995': 12.41, 'yr2000': 15.73, 'yr2005': 19.49, 'yr2010': 22.16}, {'id': 3, 'latitude': -23.5628395, 'longitude': -46.6546402, 'city': 'Sao_Paulo', 'label': 'Sao Paulo', 'yr1970': 7.62, 'yr1975': 9.61, 'yr1980': 12.09, 'yr1985': 13.39, 'yr1990': 14.78, 'yr1995': 15.95, 'yr2000': 17.1, 'yr2005': 18.65, 'yr2010': 20.26}, {'id': 4, 'latitude': 18.93013, 'longitude': 72.8300934, 'city': 'Mumbai', 'label': 'Mumbai', 'yr1970': 5.81, 'yr1975': 7.08, 'yr1980': 8.66, 'yr1985': 10.34, 'yr1990': 12.31, 'yr1995': 14.11, 'yr2000': 16.09, 'yr2005': 18.21, 'yr2010': 20.04}, {'id': 5, 'latitude': 19.4319592, 'longitude': -99.1331635, 'city': 'Mexico_City', 'label': 'Mexico City', 'yr1970': 8.77, 'yr1975': 10.69, 'yr1980': 13.01, 'yr1985': 14.11, 'yr1990': 15.31, 'yr1995': 16.81, 'yr2000': 18.02, 'yr2005': 18.73, 'yr2010': 19.46}, {'id': 6, 'latitude': 40.7820015, 'longitude': -73.8327026, 'city': 'New_York', 'label': 'New York', 'yr1970': 16.19, 'yr1975': 15.88, 'yr1980': 15.6, 'yr1985': 15.83, 'yr1990': 16.09, 'yr1995': 16.94, 'yr2000': 17.85, 'yr2005': 18.73, 'yr2010': 19.43}, {'id': 7, 'latitude': 31.2551594, 'longitude': 121.4747009, 'city': 'Shanghai', 'label': 'Shanghai', 'yr1970': 6.04, 'yr1975': 5.63, 'yr1980': 5.97, 'yr1985': 6.85, 'yr1990': 7.82, 'yr1995': 10.17, 'yr2000': 13.22, 'yr2005': 15.18, 'yr2010': 16.58}, {'id': 8, 'latitude': 22.5650902, 'longitude': 88.3707809, 'city': 'Kolkata', 'label': 'Kolkata', 'yr1970': 6.93, 'yr1975': 7.89, 'yr1980': 9.03, 'yr1985': 9.95, 'yr1990': 10.89, 'yr1995': 11.92, 'yr2000': 13.06, 'yr2005': 14.28, 'yr2010': 15.55}, {'id': 9, 'latitude': 23.7132301, 'longitude': 90.3995667, 'city': 'Dhaka', 'label': 'Dhaka', 'yr1970': 0.0, 'yr1975': 0.0, 'yr1980': 0.0, 'yr1985': 4.66, 'yr1990': 6.62, 'yr1995': 8.33, 'yr2000': 10.28, 'yr2005': 12.56, 'yr2010': 14.65}, {'id': 10, 'latitude': 24.9267101, 'longitude': 67.0343704, 'city': 'Karachi', 'label': 'Karachi', 'yr1970': 0.0, 'yr1975': 3.99, 'yr1980': 5.05, 'yr1985': 6.03, 'yr1990': 7.15, 'yr1995': 8.47, 'yr2000': 10.02, 'yr2005': 11.62, 'yr2010': 13.12}, {'id': 11, 'latitude': -34.6085091, 'longitude': -58.3734894, 'city': 'Buenos_Aires', 'label': 'Buenos Aires', 'yr1970': 8.1, 'yr1975': 8.74, 'yr1980': 9.42, 'yr1985': 9.96, 'yr1990': 10.51, 'yr1995': 11.15, 'yr2000': 11.85, 'yr2005': 12.55, 'yr2010': 13.07}, {'id': 12, 'latitude': 34.0534897, 'longitude': -118.2453232, 'city': 'Los_Angeles', 'label': 'Los Angeles', 'yr1970': 8.38, 'yr1975': 8.93, 'yr1980': 9.51, 'yr1985': 10.18, 'yr1990': 10.88, 'yr1995': 11.34, 'yr2000': 11.81, 'yr2005': 12.3, 'yr2010': 12.76}, {'id': 13, 'latitude': 39.9065704, 'longitude': 116.3876495, 'city': 'Beijing', 'label': 'Beijing', 'yr1970': 4.43, 'yr1975': 4.83, 'yr1980': 5.37, 'yr1985': 6.02, 'yr1990': 6.79, 'yr1995': 8.14, 'yr2000': 9.76, 'yr2005': 11.45, 'yr2010': 12.39}, {'id': 14, 'latitude': -22.9121609, 'longitude': -43.1750107, 'city': 'Rio_de_Janeiro', 'label': 'Rio de Janeiro', 'yr1970': 6.64, 'yr1975': 7.56, 'yr1980': 8.58, 'yr1985': 9.09, 'yr1990': 9.59, 'yr1995': 10.17, 'yr2000': 10.8, 'yr2005': 11.37, 'yr2010': 11.95}, {'id': 15, 'latitude': 14.58743, 'longitude': 120.9836807, 'city': 'Manila', 'label': 'Manila', 'yr1970': 3.53, 'yr1975': 5.0, 'yr1980': 5.95, 'yr1985': 6.89, 'yr1990': 7.97, 'yr1995': 9.4, 'yr2000': 9.96, 'yr2005': 10.76, 'yr2010': 11.63}, {'id': 16, 'latitude': 35.0763016, 'longitude': 133.5659943, 'city': 'Osaka_Kobe', 'label': 'Osaka-Kobe', 'yr1970': 9.41, 'yr1975': 9.84, 'yr1980': 9.99, 'yr1985': 10.35, 'yr1990': 11.04, 'yr1995': 11.05, 'yr2000': 11.17, 'yr2005': 11.26, 'yr2010': 11.34}, {'id': 17, 'latitude': 37.0051003, 'longitude': -89.1762695, 'city': 'Cairo', 'label': 'Cairo', 'yr1970': 5.58, 'yr1975': 6.45, 'yr1980': 7.35, 'yr1985': 8.33, 'yr1990': 9.06, 'yr1995': 9.71, 'yr2000': 10.17, 'yr2005': 10.56, 'yr2010': 11.0}, {'id': 18, 'latitude': 6.45471, 'longitude': 3.3887601, 'city': 'Lagos', 'label': 'Lagos', 'yr1970': 0.0, 'yr1975': 0.0, 'yr1980': 0.0, 'yr1985': 0.0, 'yr1990': 0.0, 'yr1995': 5.97, 'yr2000': 7.23, 'yr2005': 8.77, 'yr2010': 10.58}, {'id': 19, 'latitude': 55.7569695, 'longitude': 37.6150208, 'city': 'Moscow', 'label': 'Moscow', 'yr1970': 7.11, 'yr1975': 7.62, 'yr1980': 8.14, 'yr1985': 8.58, 'yr1990': 8.99, 'yr1995': 9.2, 'yr2000': 10.0, 'yr2005': 10.42, 'yr2010': 10.55}, {'id': 20, 'latitude': 41.0409584, 'longitude': 28.9857998, 'city': 'Istanbul', 'label': 'Istanbul', 'yr1970': 0.0, 'yr1975': 0.0, 'yr1980': 4.4, 'yr1985': 5.41, 'yr1990': 6.55, 'yr1995': 7.67, 'yr2000': 8.74, 'yr2005': 9.71, 'yr2010': 10.52}, {'id': 21, 'latitude': 48.8569298, 'longitude': 2.3412001, 'city': 'Paris', 'label': 'Paris', 'yr1970': 8.35, 'yr1975': 8.56, 'yr1980': 8.67, 'yr1985': 8.96, 'yr1990': 9.33, 'yr1995': 9.51, 'yr2000': 9.74, 'yr2005': 10.11, 'yr2010': 10.49}, {'id': 22, 'latitude': 37.5150185, 'longitude': 127.0164719, 'city': 'Seoul', 'label': 'Seoul', 'yr1970': 5.31, 'yr1975': 6.81, 'yr1980': 8.26, 'yr1985': 9.55, 'yr1990': 10.54, 'yr1995': 10.26, 'yr2000': 9.92, 'yr2005': 9.83, 'yr2010': 9.77}, {'id': 23, 'latitude': 29.5509491, 'longitude': 106.5193481, 'city': 'Chongqing', 'label': 'Chongqing', 'yr1970': 0.0, 'yr1975': 0.0, 'yr1980': 0.0, 'yr1985': 0.0, 'yr1990': 0.0, 'yr1995': 0.0, 'yr2000': 0.0, 'yr2005': 0.0, 'yr2010': 9.4}, {'id': 24, 'latitude': -6.1714902, 'longitude': 106.8275223, 'city': 'Jakarta', 'label': 'Jakarta', 'yr1970': 3.92, 'yr1975': 4.81, 'yr1980': 5.98, 'yr1985': 7.01, 'yr1990': 8.18, 'yr1995': 8.32, 'yr2000': 8.39, 'yr2005': 8.79, 'yr2010': 9.21}, {'id': 25, 'latitude': 41.8842506, 'longitude': -87.6324463, 'city': 'Chicago', 'label': 'Chicago', 'yr1970': 7.11, 'yr1975': 7.16, 'yr1980': 7.22, 'yr1985': 7.29, 'yr1990': 7.37, 'yr1995': 7.84, 'yr2000': 8.33, 'yr2005': 8.82, 'yr2010': 9.2}, {'id': 26, 'latitude': 22.5562191, 'longitude': 114.1187897, 'city': 'Shenzhen', 'label': 'Shenzhen', 'yr1970': 0.0, 'yr1975': 0.0, 'yr1980': 0.0, 'yr1985': 0.0, 'yr1990': 0.0, 'yr1995': 0.0, 'yr2000': 0.0, 'yr2005': 7.93, 'yr2010': 9.01}, {'id': 27, 'latitude': -12.0561399, 'longitude': -77.0268021, 'city': 'Lima', 'label': 'Lima', 'yr1970': 0.0, 'yr1975': 3.7, 'yr1980': 4.44, 'yr1985': 5.12, 'yr1990': 5.84, 'yr1995': 6.58, 'yr2000': 7.29, 'yr2005': 8.08, 'yr2010': 8.94}, {'id': 28, 'latitude': 23.1133709, 'longitude': 113.2552338, 'city': 'Guangzhou', 'label': 'Guangzhou', 'yr1970': 0.0, 'yr1975': 0.0, 'yr1980': 0.0, 'yr1985': 0.0, 'yr1990': 0.0, 'yr1995': 0.0, 'yr2000': 7.33, 'yr2005': 8.16, 'yr2010': 8.88}, {'id': 29, 'latitude': -4.3122201, 'longitude': 15.2895298, 'city': 'Kinshasa', 'label': 'Kinshasa', 'yr1970': 0.0, 'yr1975': 0.0, 'yr1980': 0.0, 'yr1985': 0.0, 'yr1990': 0.0, 'yr1995': 0.0, 'yr2000': 0.0, 'yr2005': 0.0, 'yr2010': 8.75}, {'id': 30, 'latitude': 51.5064316, 'longitude': -0.12719, 'city': 'London', 'label': 'London', 'yr1970': 7.51, 'yr1975': 7.55, 'yr1980': 7.66, 'yr1985': 7.67, 'yr1990': 7.65, 'yr1995': 7.91, 'yr2000': 8.22, 'yr2005': 8.51, 'yr2010': 8.63}, {'id': 31, 'latitude': 39.1449394, 'longitude': 117.2005692, 'city': 'Tianjin', 'label': 'Tianjin', 'yr1970': 3.32, 'yr1975': 0.0, 'yr1980': 0.0, 'yr1985': 0.0, 'yr1990': 0.0, 'yr1995': 0.0, 'yr2000': 6.67, 'yr2005': 7.28, 'yr2010': 0.0}, {'id': 32, 'latitude': 22.3361568, 'longitude': 114.1869659, 'city': 'Hong_Kong', 'label': 'Hong Kong', 'yr1970': 3.46, 'yr1975': 3.94, 'yr1980': 4.61, 'yr1985': 5.07, 'yr1990': 5.68, 'yr1995': 6.21, 'yr2000': 6.67, 'yr2005': 0.0, 'yr2010': 0.0}, {'id': 33, 'latitude': 35.6895409, 'longitude': 51.4146843, 'city': 'Tehran', 'label': 'Tehran', 'yr1970': 3.29, 'yr1975': 4.27, 'yr1980': 5.08, 'yr1985': 5.84, 'yr1990': 6.36, 'yr1995': 6.69, 'yr2000': 6.88, 'yr2005': 0.0, 'yr2010': 0.0}, {'id': 34, 'latitude': 13.0503302, 'longitude': 80.188591, 'city': 'Chennai', 'label': 'Chennai', 'yr1970': 0.0, 'yr1975': 0.0, 'yr1980': 0.0, 'yr1985': 4.75, 'yr1990': 5.34, 'yr1995': 5.84, 'yr2000': 0.0, 'yr2005': 0.0, 'yr2010': 0.0}, {'id': 35, 'latitude': 13.7533503, 'longitude': 100.5048294, 'city': 'Bangkok', 'label': 'Bangkok', 'yr1970': 0.0, 'yr1975': 3.84, 'yr1980': 4.72, 'yr1985': 5.28, 'yr1990': 5.89, 'yr1995': 6.11, 'yr2000': 0.0, 'yr2005': 0.0, 'yr2010': 0.0}, {'id': 36, 'latitude': 59.9331818, 'longitude': 30.3060303, 'city': 'Saint_Petersburg', 'label': 'St. Petersburg', 'yr1970': 3.98, 'yr1975': 4.33, 'yr1980': 4.64, 'yr1985': 4.84, 'yr1990': 4.99, 'yr1995': 0.0, 'yr2000': 0.0, 'yr2005': 0.0, 'yr2010': 0.0}, {'id': 37, 'latitude': 40.4514008, 'longitude': -3.5631499, 'city': 'Madrid', 'label': 'Madrid', 'yr1970': 3.52, 'yr1975': 3.89, 'yr1980': 4.25, 'yr1985': 0.0, 'yr1990': 0.0, 'yr1995': 0.0, 'yr2000': 0.0, 'yr2005': 0.0, 'yr2010': 0.0}, {'id': 38, 'latitude': 39.9522781, 'longitude': -75.1624527, 'city': 'Philadelphia', 'label': 'Philadelphia', 'yr1970': 4.4, 'yr1975': 4.47, 'yr1980': 4.54, 'yr1985': 0.0, 'yr1990': 0.0, 'yr1995': 0.0, 'yr2000': 0.0, 'yr2005': 0.0, 'yr2010': 0.0}, {'id': 39, 'latitude': 42.3316803, 'longitude': -83.0479202, 'city': 'Detroit', 'label': 'Detroit', 'yr1970': 3.97, 'yr1975': 3.89, 'yr1980': 0.0, 'yr1985': 0.0, 'yr1990': 0.0, 'yr1995': 0.0, 'yr2000': 0.0, 'yr2005': 0.0, 'yr2010': 0.0}]\n"
          ]
        }
      ]
    },
    {
      "cell_type": "code",
      "source": [
        "import json\n",
        "cityPopJson=json.dumps(cityPop_list)\n",
        "print(type(cityPopJson)) "
      ],
      "metadata": {
        "colab": {
          "base_uri": "https://localhost:8080/"
        },
        "id": "grgn1nWYtouF",
        "outputId": "0190dbe6-65fa-4499-a221-48edf4098487"
      },
      "execution_count": 12,
      "outputs": [
        {
          "output_type": "stream",
          "name": "stdout",
          "text": [
            "<class 'str'>\n"
          ]
        }
      ]
    },
    {
      "cell_type": "code",
      "source": [
        "## output: write a json file\n",
        "with open('CityPop.json','w') as  fw:\n",
        "    fw.write(cityPopJson)\n",
        "print ('Task 1 done.')"
      ],
      "metadata": {
        "colab": {
          "base_uri": "https://localhost:8080/"
        },
        "id": "izkxNdpQuQik",
        "outputId": "6be2edc9-cf2c-4bb8-f12c-52b41be77630"
      },
      "execution_count": 13,
      "outputs": [
        {
          "output_type": "stream",
          "name": "stdout",
          "text": [
            "Task 1 done.\n"
          ]
        }
      ]
    },
    {
      "cell_type": "markdown",
      "source": [
        "Task 2: Convert the CityPop.json file to a GeoJSON file, save as CityPop_geojson.json."
      ],
      "metadata": {
        "id": "IeLEi9H0vOVh"
      }
    },
    {
      "cell_type": "code",
      "source": [
        "def jsonToGeojson(items):\n",
        "  import json\n",
        "  return json.dumps({\n",
        "      \"type\": \"FeatureCollection\",\n",
        "      \"features\": [{\"type\": \"Feature\",\n",
        "                    \"geometry\": { \"type\": \"Point\", \"coordinates\": [feature['longitude'], feature['latitude']]},\n",
        "                    \"properties\": { key: value\n",
        "                                   for key, value in feature.items()\n",
        "                                     if key not in ('latitude', 'longitude') }\n",
        "                    }\n",
        "                   for feature in json.loads(items)\n",
        "                   ]\n",
        "  })\n",
        "                            "
      ],
      "metadata": {
        "id": "t49rbdHnvT6x"
      },
      "execution_count": 20,
      "outputs": []
    },
    {
      "cell_type": "code",
      "source": [
        "cityPopGeojson=jsonToGeojson(cityPopJson)\n",
        "print(cityPopGeojson)  "
      ],
      "metadata": {
        "colab": {
          "base_uri": "https://localhost:8080/"
        },
        "id": "nYcuMdW2-YML",
        "outputId": "9055c761-e958-4fb7-d389-effbd8104f7d"
      },
      "execution_count": 27,
      "outputs": [
        {
          "output_type": "stream",
          "name": "stdout",
          "text": [
            "{\"type\": \"FeatureCollection\", \"features\": [{\"type\": \"Feature\", \"geometry\": {\"type\": \"Point\", \"coordinates\": [139.8089447, 35.6832085]}, \"properties\": {\"id\": 1, \"city\": \"Tokyo\", \"label\": \"Tokyo\", \"yr1970\": 23.3, \"yr1975\": 26.61, \"yr1980\": 28.55, \"yr1985\": 30.3, \"yr1990\": 32.53, \"yr1995\": 33.59, \"yr2000\": 34.45, \"yr2005\": 35.62, \"yr2010\": 36.67}}, {\"type\": \"Feature\", \"geometry\": {\"type\": \"Point\", \"coordinates\": [77.2008133, 28.6082802]}, \"properties\": {\"id\": 2, \"city\": \"New_Delhi\", \"label\": \"New Delhi\", \"yr1970\": 3.53, \"yr1975\": 4.43, \"yr1980\": 5.56, \"yr1985\": 7.33, \"yr1990\": 9.73, \"yr1995\": 12.41, \"yr2000\": 15.73, \"yr2005\": 19.49, \"yr2010\": 22.16}}, {\"type\": \"Feature\", \"geometry\": {\"type\": \"Point\", \"coordinates\": [-46.6546402, -23.5628395]}, \"properties\": {\"id\": 3, \"city\": \"Sao_Paulo\", \"label\": \"Sao Paulo\", \"yr1970\": 7.62, \"yr1975\": 9.61, \"yr1980\": 12.09, \"yr1985\": 13.39, \"yr1990\": 14.78, \"yr1995\": 15.95, \"yr2000\": 17.1, \"yr2005\": 18.65, \"yr2010\": 20.26}}, {\"type\": \"Feature\", \"geometry\": {\"type\": \"Point\", \"coordinates\": [72.8300934, 18.93013]}, \"properties\": {\"id\": 4, \"city\": \"Mumbai\", \"label\": \"Mumbai\", \"yr1970\": 5.81, \"yr1975\": 7.08, \"yr1980\": 8.66, \"yr1985\": 10.34, \"yr1990\": 12.31, \"yr1995\": 14.11, \"yr2000\": 16.09, \"yr2005\": 18.21, \"yr2010\": 20.04}}, {\"type\": \"Feature\", \"geometry\": {\"type\": \"Point\", \"coordinates\": [-99.1331635, 19.4319592]}, \"properties\": {\"id\": 5, \"city\": \"Mexico_City\", \"label\": \"Mexico City\", \"yr1970\": 8.77, \"yr1975\": 10.69, \"yr1980\": 13.01, \"yr1985\": 14.11, \"yr1990\": 15.31, \"yr1995\": 16.81, \"yr2000\": 18.02, \"yr2005\": 18.73, \"yr2010\": 19.46}}, {\"type\": \"Feature\", \"geometry\": {\"type\": \"Point\", \"coordinates\": [-73.8327026, 40.7820015]}, \"properties\": {\"id\": 6, \"city\": \"New_York\", \"label\": \"New York\", \"yr1970\": 16.19, \"yr1975\": 15.88, \"yr1980\": 15.6, \"yr1985\": 15.83, \"yr1990\": 16.09, \"yr1995\": 16.94, \"yr2000\": 17.85, \"yr2005\": 18.73, \"yr2010\": 19.43}}, {\"type\": \"Feature\", \"geometry\": {\"type\": \"Point\", \"coordinates\": [121.4747009, 31.2551594]}, \"properties\": {\"id\": 7, \"city\": \"Shanghai\", \"label\": \"Shanghai\", \"yr1970\": 6.04, \"yr1975\": 5.63, \"yr1980\": 5.97, \"yr1985\": 6.85, \"yr1990\": 7.82, \"yr1995\": 10.17, \"yr2000\": 13.22, \"yr2005\": 15.18, \"yr2010\": 16.58}}, {\"type\": \"Feature\", \"geometry\": {\"type\": \"Point\", \"coordinates\": [88.3707809, 22.5650902]}, \"properties\": {\"id\": 8, \"city\": \"Kolkata\", \"label\": \"Kolkata\", \"yr1970\": 6.93, \"yr1975\": 7.89, \"yr1980\": 9.03, \"yr1985\": 9.95, \"yr1990\": 10.89, \"yr1995\": 11.92, \"yr2000\": 13.06, \"yr2005\": 14.28, \"yr2010\": 15.55}}, {\"type\": \"Feature\", \"geometry\": {\"type\": \"Point\", \"coordinates\": [90.3995667, 23.7132301]}, \"properties\": {\"id\": 9, \"city\": \"Dhaka\", \"label\": \"Dhaka\", \"yr1970\": 0.0, \"yr1975\": 0.0, \"yr1980\": 0.0, \"yr1985\": 4.66, \"yr1990\": 6.62, \"yr1995\": 8.33, \"yr2000\": 10.28, \"yr2005\": 12.56, \"yr2010\": 14.65}}, {\"type\": \"Feature\", \"geometry\": {\"type\": \"Point\", \"coordinates\": [67.0343704, 24.9267101]}, \"properties\": {\"id\": 10, \"city\": \"Karachi\", \"label\": \"Karachi\", \"yr1970\": 0.0, \"yr1975\": 3.99, \"yr1980\": 5.05, \"yr1985\": 6.03, \"yr1990\": 7.15, \"yr1995\": 8.47, \"yr2000\": 10.02, \"yr2005\": 11.62, \"yr2010\": 13.12}}, {\"type\": \"Feature\", \"geometry\": {\"type\": \"Point\", \"coordinates\": [-58.3734894, -34.6085091]}, \"properties\": {\"id\": 11, \"city\": \"Buenos_Aires\", \"label\": \"Buenos Aires\", \"yr1970\": 8.1, \"yr1975\": 8.74, \"yr1980\": 9.42, \"yr1985\": 9.96, \"yr1990\": 10.51, \"yr1995\": 11.15, \"yr2000\": 11.85, \"yr2005\": 12.55, \"yr2010\": 13.07}}, {\"type\": \"Feature\", \"geometry\": {\"type\": \"Point\", \"coordinates\": [-118.2453232, 34.0534897]}, \"properties\": {\"id\": 12, \"city\": \"Los_Angeles\", \"label\": \"Los Angeles\", \"yr1970\": 8.38, \"yr1975\": 8.93, \"yr1980\": 9.51, \"yr1985\": 10.18, \"yr1990\": 10.88, \"yr1995\": 11.34, \"yr2000\": 11.81, \"yr2005\": 12.3, \"yr2010\": 12.76}}, {\"type\": \"Feature\", \"geometry\": {\"type\": \"Point\", \"coordinates\": [116.3876495, 39.9065704]}, \"properties\": {\"id\": 13, \"city\": \"Beijing\", \"label\": \"Beijing\", \"yr1970\": 4.43, \"yr1975\": 4.83, \"yr1980\": 5.37, \"yr1985\": 6.02, \"yr1990\": 6.79, \"yr1995\": 8.14, \"yr2000\": 9.76, \"yr2005\": 11.45, \"yr2010\": 12.39}}, {\"type\": \"Feature\", \"geometry\": {\"type\": \"Point\", \"coordinates\": [-43.1750107, -22.9121609]}, \"properties\": {\"id\": 14, \"city\": \"Rio_de_Janeiro\", \"label\": \"Rio de Janeiro\", \"yr1970\": 6.64, \"yr1975\": 7.56, \"yr1980\": 8.58, \"yr1985\": 9.09, \"yr1990\": 9.59, \"yr1995\": 10.17, \"yr2000\": 10.8, \"yr2005\": 11.37, \"yr2010\": 11.95}}, {\"type\": \"Feature\", \"geometry\": {\"type\": \"Point\", \"coordinates\": [120.9836807, 14.58743]}, \"properties\": {\"id\": 15, \"city\": \"Manila\", \"label\": \"Manila\", \"yr1970\": 3.53, \"yr1975\": 5.0, \"yr1980\": 5.95, \"yr1985\": 6.89, \"yr1990\": 7.97, \"yr1995\": 9.4, \"yr2000\": 9.96, \"yr2005\": 10.76, \"yr2010\": 11.63}}, {\"type\": \"Feature\", \"geometry\": {\"type\": \"Point\", \"coordinates\": [133.5659943, 35.0763016]}, \"properties\": {\"id\": 16, \"city\": \"Osaka_Kobe\", \"label\": \"Osaka-Kobe\", \"yr1970\": 9.41, \"yr1975\": 9.84, \"yr1980\": 9.99, \"yr1985\": 10.35, \"yr1990\": 11.04, \"yr1995\": 11.05, \"yr2000\": 11.17, \"yr2005\": 11.26, \"yr2010\": 11.34}}, {\"type\": \"Feature\", \"geometry\": {\"type\": \"Point\", \"coordinates\": [-89.1762695, 37.0051003]}, \"properties\": {\"id\": 17, \"city\": \"Cairo\", \"label\": \"Cairo\", \"yr1970\": 5.58, \"yr1975\": 6.45, \"yr1980\": 7.35, \"yr1985\": 8.33, \"yr1990\": 9.06, \"yr1995\": 9.71, \"yr2000\": 10.17, \"yr2005\": 10.56, \"yr2010\": 11.0}}, {\"type\": \"Feature\", \"geometry\": {\"type\": \"Point\", \"coordinates\": [3.3887601, 6.45471]}, \"properties\": {\"id\": 18, \"city\": \"Lagos\", \"label\": \"Lagos\", \"yr1970\": 0.0, \"yr1975\": 0.0, \"yr1980\": 0.0, \"yr1985\": 0.0, \"yr1990\": 0.0, \"yr1995\": 5.97, \"yr2000\": 7.23, \"yr2005\": 8.77, \"yr2010\": 10.58}}, {\"type\": \"Feature\", \"geometry\": {\"type\": \"Point\", \"coordinates\": [37.6150208, 55.7569695]}, \"properties\": {\"id\": 19, \"city\": \"Moscow\", \"label\": \"Moscow\", \"yr1970\": 7.11, \"yr1975\": 7.62, \"yr1980\": 8.14, \"yr1985\": 8.58, \"yr1990\": 8.99, \"yr1995\": 9.2, \"yr2000\": 10.0, \"yr2005\": 10.42, \"yr2010\": 10.55}}, {\"type\": \"Feature\", \"geometry\": {\"type\": \"Point\", \"coordinates\": [28.9857998, 41.0409584]}, \"properties\": {\"id\": 20, \"city\": \"Istanbul\", \"label\": \"Istanbul\", \"yr1970\": 0.0, \"yr1975\": 0.0, \"yr1980\": 4.4, \"yr1985\": 5.41, \"yr1990\": 6.55, \"yr1995\": 7.67, \"yr2000\": 8.74, \"yr2005\": 9.71, \"yr2010\": 10.52}}, {\"type\": \"Feature\", \"geometry\": {\"type\": \"Point\", \"coordinates\": [2.3412001, 48.8569298]}, \"properties\": {\"id\": 21, \"city\": \"Paris\", \"label\": \"Paris\", \"yr1970\": 8.35, \"yr1975\": 8.56, \"yr1980\": 8.67, \"yr1985\": 8.96, \"yr1990\": 9.33, \"yr1995\": 9.51, \"yr2000\": 9.74, \"yr2005\": 10.11, \"yr2010\": 10.49}}, {\"type\": \"Feature\", \"geometry\": {\"type\": \"Point\", \"coordinates\": [127.0164719, 37.5150185]}, \"properties\": {\"id\": 22, \"city\": \"Seoul\", \"label\": \"Seoul\", \"yr1970\": 5.31, \"yr1975\": 6.81, \"yr1980\": 8.26, \"yr1985\": 9.55, \"yr1990\": 10.54, \"yr1995\": 10.26, \"yr2000\": 9.92, \"yr2005\": 9.83, \"yr2010\": 9.77}}, {\"type\": \"Feature\", \"geometry\": {\"type\": \"Point\", \"coordinates\": [106.5193481, 29.5509491]}, \"properties\": {\"id\": 23, \"city\": \"Chongqing\", \"label\": \"Chongqing\", \"yr1970\": 0.0, \"yr1975\": 0.0, \"yr1980\": 0.0, \"yr1985\": 0.0, \"yr1990\": 0.0, \"yr1995\": 0.0, \"yr2000\": 0.0, \"yr2005\": 0.0, \"yr2010\": 9.4}}, {\"type\": \"Feature\", \"geometry\": {\"type\": \"Point\", \"coordinates\": [106.8275223, -6.1714902]}, \"properties\": {\"id\": 24, \"city\": \"Jakarta\", \"label\": \"Jakarta\", \"yr1970\": 3.92, \"yr1975\": 4.81, \"yr1980\": 5.98, \"yr1985\": 7.01, \"yr1990\": 8.18, \"yr1995\": 8.32, \"yr2000\": 8.39, \"yr2005\": 8.79, \"yr2010\": 9.21}}, {\"type\": \"Feature\", \"geometry\": {\"type\": \"Point\", \"coordinates\": [-87.6324463, 41.8842506]}, \"properties\": {\"id\": 25, \"city\": \"Chicago\", \"label\": \"Chicago\", \"yr1970\": 7.11, \"yr1975\": 7.16, \"yr1980\": 7.22, \"yr1985\": 7.29, \"yr1990\": 7.37, \"yr1995\": 7.84, \"yr2000\": 8.33, \"yr2005\": 8.82, \"yr2010\": 9.2}}, {\"type\": \"Feature\", \"geometry\": {\"type\": \"Point\", \"coordinates\": [114.1187897, 22.5562191]}, \"properties\": {\"id\": 26, \"city\": \"Shenzhen\", \"label\": \"Shenzhen\", \"yr1970\": 0.0, \"yr1975\": 0.0, \"yr1980\": 0.0, \"yr1985\": 0.0, \"yr1990\": 0.0, \"yr1995\": 0.0, \"yr2000\": 0.0, \"yr2005\": 7.93, \"yr2010\": 9.01}}, {\"type\": \"Feature\", \"geometry\": {\"type\": \"Point\", \"coordinates\": [-77.0268021, -12.0561399]}, \"properties\": {\"id\": 27, \"city\": \"Lima\", \"label\": \"Lima\", \"yr1970\": 0.0, \"yr1975\": 3.7, \"yr1980\": 4.44, \"yr1985\": 5.12, \"yr1990\": 5.84, \"yr1995\": 6.58, \"yr2000\": 7.29, \"yr2005\": 8.08, \"yr2010\": 8.94}}, {\"type\": \"Feature\", \"geometry\": {\"type\": \"Point\", \"coordinates\": [113.2552338, 23.1133709]}, \"properties\": {\"id\": 28, \"city\": \"Guangzhou\", \"label\": \"Guangzhou\", \"yr1970\": 0.0, \"yr1975\": 0.0, \"yr1980\": 0.0, \"yr1985\": 0.0, \"yr1990\": 0.0, \"yr1995\": 0.0, \"yr2000\": 7.33, \"yr2005\": 8.16, \"yr2010\": 8.88}}, {\"type\": \"Feature\", \"geometry\": {\"type\": \"Point\", \"coordinates\": [15.2895298, -4.3122201]}, \"properties\": {\"id\": 29, \"city\": \"Kinshasa\", \"label\": \"Kinshasa\", \"yr1970\": 0.0, \"yr1975\": 0.0, \"yr1980\": 0.0, \"yr1985\": 0.0, \"yr1990\": 0.0, \"yr1995\": 0.0, \"yr2000\": 0.0, \"yr2005\": 0.0, \"yr2010\": 8.75}}, {\"type\": \"Feature\", \"geometry\": {\"type\": \"Point\", \"coordinates\": [-0.12719, 51.5064316]}, \"properties\": {\"id\": 30, \"city\": \"London\", \"label\": \"London\", \"yr1970\": 7.51, \"yr1975\": 7.55, \"yr1980\": 7.66, \"yr1985\": 7.67, \"yr1990\": 7.65, \"yr1995\": 7.91, \"yr2000\": 8.22, \"yr2005\": 8.51, \"yr2010\": 8.63}}, {\"type\": \"Feature\", \"geometry\": {\"type\": \"Point\", \"coordinates\": [117.2005692, 39.1449394]}, \"properties\": {\"id\": 31, \"city\": \"Tianjin\", \"label\": \"Tianjin\", \"yr1970\": 3.32, \"yr1975\": 0.0, \"yr1980\": 0.0, \"yr1985\": 0.0, \"yr1990\": 0.0, \"yr1995\": 0.0, \"yr2000\": 6.67, \"yr2005\": 7.28, \"yr2010\": 0.0}}, {\"type\": \"Feature\", \"geometry\": {\"type\": \"Point\", \"coordinates\": [114.1869659, 22.3361568]}, \"properties\": {\"id\": 32, \"city\": \"Hong_Kong\", \"label\": \"Hong Kong\", \"yr1970\": 3.46, \"yr1975\": 3.94, \"yr1980\": 4.61, \"yr1985\": 5.07, \"yr1990\": 5.68, \"yr1995\": 6.21, \"yr2000\": 6.67, \"yr2005\": 0.0, \"yr2010\": 0.0}}, {\"type\": \"Feature\", \"geometry\": {\"type\": \"Point\", \"coordinates\": [51.4146843, 35.6895409]}, \"properties\": {\"id\": 33, \"city\": \"Tehran\", \"label\": \"Tehran\", \"yr1970\": 3.29, \"yr1975\": 4.27, \"yr1980\": 5.08, \"yr1985\": 5.84, \"yr1990\": 6.36, \"yr1995\": 6.69, \"yr2000\": 6.88, \"yr2005\": 0.0, \"yr2010\": 0.0}}, {\"type\": \"Feature\", \"geometry\": {\"type\": \"Point\", \"coordinates\": [80.188591, 13.0503302]}, \"properties\": {\"id\": 34, \"city\": \"Chennai\", \"label\": \"Chennai\", \"yr1970\": 0.0, \"yr1975\": 0.0, \"yr1980\": 0.0, \"yr1985\": 4.75, \"yr1990\": 5.34, \"yr1995\": 5.84, \"yr2000\": 0.0, \"yr2005\": 0.0, \"yr2010\": 0.0}}, {\"type\": \"Feature\", \"geometry\": {\"type\": \"Point\", \"coordinates\": [100.5048294, 13.7533503]}, \"properties\": {\"id\": 35, \"city\": \"Bangkok\", \"label\": \"Bangkok\", \"yr1970\": 0.0, \"yr1975\": 3.84, \"yr1980\": 4.72, \"yr1985\": 5.28, \"yr1990\": 5.89, \"yr1995\": 6.11, \"yr2000\": 0.0, \"yr2005\": 0.0, \"yr2010\": 0.0}}, {\"type\": \"Feature\", \"geometry\": {\"type\": \"Point\", \"coordinates\": [30.3060303, 59.9331818]}, \"properties\": {\"id\": 36, \"city\": \"Saint_Petersburg\", \"label\": \"St. Petersburg\", \"yr1970\": 3.98, \"yr1975\": 4.33, \"yr1980\": 4.64, \"yr1985\": 4.84, \"yr1990\": 4.99, \"yr1995\": 0.0, \"yr2000\": 0.0, \"yr2005\": 0.0, \"yr2010\": 0.0}}, {\"type\": \"Feature\", \"geometry\": {\"type\": \"Point\", \"coordinates\": [-3.5631499, 40.4514008]}, \"properties\": {\"id\": 37, \"city\": \"Madrid\", \"label\": \"Madrid\", \"yr1970\": 3.52, \"yr1975\": 3.89, \"yr1980\": 4.25, \"yr1985\": 0.0, \"yr1990\": 0.0, \"yr1995\": 0.0, \"yr2000\": 0.0, \"yr2005\": 0.0, \"yr2010\": 0.0}}, {\"type\": \"Feature\", \"geometry\": {\"type\": \"Point\", \"coordinates\": [-75.1624527, 39.9522781]}, \"properties\": {\"id\": 38, \"city\": \"Philadelphia\", \"label\": \"Philadelphia\", \"yr1970\": 4.4, \"yr1975\": 4.47, \"yr1980\": 4.54, \"yr1985\": 0.0, \"yr1990\": 0.0, \"yr1995\": 0.0, \"yr2000\": 0.0, \"yr2005\": 0.0, \"yr2010\": 0.0}}, {\"type\": \"Feature\", \"geometry\": {\"type\": \"Point\", \"coordinates\": [-83.0479202, 42.3316803]}, \"properties\": {\"id\": 39, \"city\": \"Detroit\", \"label\": \"Detroit\", \"yr1970\": 3.97, \"yr1975\": 3.89, \"yr1980\": 0.0, \"yr1985\": 0.0, \"yr1990\": 0.0, \"yr1995\": 0.0, \"yr2000\": 0.0, \"yr2005\": 0.0, \"yr2010\": 0.0}}]}\n"
          ]
        }
      ]
    },
    {
      "cell_type": "code",
      "source": [
        "## output: write a json file\n",
        "with open('CityPop_geojson.json','w') as  fw:\n",
        "    fw.write(cityPopGeojson)\n",
        "print ('Task 2 done.')"
      ],
      "metadata": {
        "colab": {
          "base_uri": "https://localhost:8080/"
        },
        "id": "LGq-Sc2LC-WW",
        "outputId": "8248ba5d-ceef-4950-c1b8-60ea68898091"
      },
      "execution_count": 28,
      "outputs": [
        {
          "output_type": "stream",
          "name": "stdout",
          "text": [
            "Task 2 done.\n"
          ]
        }
      ]
    },
    {
      "cell_type": "markdown",
      "source": [
        "Task 3: Convert the CityPop_geojson.json file to a Shp file, save as CityPop.shp."
      ],
      "metadata": {
        "id": "FDjsdARWDzsy"
      }
    },
    {
      "cell_type": "code",
      "source": [
        "% pip install geopandas\n",
        "import geopandas as gpd\n",
        "cityPopGpd=gpd.read_file(\"CityPop_geojson.json\")\n",
        "cityPopGpd.head()"
      ],
      "metadata": {
        "colab": {
          "base_uri": "https://localhost:8080/",
          "height": 675
        },
        "id": "lyLBTJK_D5mk",
        "outputId": "461129b2-7ddd-4548-f5de-954aafb05049"
      },
      "execution_count": 30,
      "outputs": [
        {
          "output_type": "stream",
          "name": "stdout",
          "text": [
            "Collecting geopandas\n",
            "  Downloading geopandas-0.10.2-py2.py3-none-any.whl (1.0 MB)\n",
            "\u001b[?25l\r\u001b[K     |▎                               | 10 kB 21.4 MB/s eta 0:00:01\r\u001b[K     |▋                               | 20 kB 26.5 MB/s eta 0:00:01\r\u001b[K     |█                               | 30 kB 31.2 MB/s eta 0:00:01\r\u001b[K     |█▎                              | 40 kB 33.1 MB/s eta 0:00:01\r\u001b[K     |█▋                              | 51 kB 35.4 MB/s eta 0:00:01\r\u001b[K     |██                              | 61 kB 29.5 MB/s eta 0:00:01\r\u001b[K     |██▎                             | 71 kB 25.6 MB/s eta 0:00:01\r\u001b[K     |██▌                             | 81 kB 27.3 MB/s eta 0:00:01\r\u001b[K     |██▉                             | 92 kB 26.8 MB/s eta 0:00:01\r\u001b[K     |███▏                            | 102 kB 26.8 MB/s eta 0:00:01\r\u001b[K     |███▌                            | 112 kB 26.8 MB/s eta 0:00:01\r\u001b[K     |███▉                            | 122 kB 26.8 MB/s eta 0:00:01\r\u001b[K     |████▏                           | 133 kB 26.8 MB/s eta 0:00:01\r\u001b[K     |████▌                           | 143 kB 26.8 MB/s eta 0:00:01\r\u001b[K     |████▊                           | 153 kB 26.8 MB/s eta 0:00:01\r\u001b[K     |█████                           | 163 kB 26.8 MB/s eta 0:00:01\r\u001b[K     |█████▍                          | 174 kB 26.8 MB/s eta 0:00:01\r\u001b[K     |█████▊                          | 184 kB 26.8 MB/s eta 0:00:01\r\u001b[K     |██████                          | 194 kB 26.8 MB/s eta 0:00:01\r\u001b[K     |██████▍                         | 204 kB 26.8 MB/s eta 0:00:01\r\u001b[K     |██████▊                         | 215 kB 26.8 MB/s eta 0:00:01\r\u001b[K     |███████                         | 225 kB 26.8 MB/s eta 0:00:01\r\u001b[K     |███████▎                        | 235 kB 26.8 MB/s eta 0:00:01\r\u001b[K     |███████▋                        | 245 kB 26.8 MB/s eta 0:00:01\r\u001b[K     |████████                        | 256 kB 26.8 MB/s eta 0:00:01\r\u001b[K     |████████▎                       | 266 kB 26.8 MB/s eta 0:00:01\r\u001b[K     |████████▋                       | 276 kB 26.8 MB/s eta 0:00:01\r\u001b[K     |█████████                       | 286 kB 26.8 MB/s eta 0:00:01\r\u001b[K     |█████████▏                      | 296 kB 26.8 MB/s eta 0:00:01\r\u001b[K     |█████████▌                      | 307 kB 26.8 MB/s eta 0:00:01\r\u001b[K     |█████████▉                      | 317 kB 26.8 MB/s eta 0:00:01\r\u001b[K     |██████████▏                     | 327 kB 26.8 MB/s eta 0:00:01\r\u001b[K     |██████████▌                     | 337 kB 26.8 MB/s eta 0:00:01\r\u001b[K     |██████████▉                     | 348 kB 26.8 MB/s eta 0:00:01\r\u001b[K     |███████████▏                    | 358 kB 26.8 MB/s eta 0:00:01\r\u001b[K     |███████████▍                    | 368 kB 26.8 MB/s eta 0:00:01\r\u001b[K     |███████████▊                    | 378 kB 26.8 MB/s eta 0:00:01\r\u001b[K     |████████████                    | 389 kB 26.8 MB/s eta 0:00:01\r\u001b[K     |████████████▍                   | 399 kB 26.8 MB/s eta 0:00:01\r\u001b[K     |████████████▊                   | 409 kB 26.8 MB/s eta 0:00:01\r\u001b[K     |█████████████                   | 419 kB 26.8 MB/s eta 0:00:01\r\u001b[K     |█████████████▍                  | 430 kB 26.8 MB/s eta 0:00:01\r\u001b[K     |█████████████▋                  | 440 kB 26.8 MB/s eta 0:00:01\r\u001b[K     |██████████████                  | 450 kB 26.8 MB/s eta 0:00:01\r\u001b[K     |██████████████▎                 | 460 kB 26.8 MB/s eta 0:00:01\r\u001b[K     |██████████████▋                 | 471 kB 26.8 MB/s eta 0:00:01\r\u001b[K     |███████████████                 | 481 kB 26.8 MB/s eta 0:00:01\r\u001b[K     |███████████████▎                | 491 kB 26.8 MB/s eta 0:00:01\r\u001b[K     |███████████████▋                | 501 kB 26.8 MB/s eta 0:00:01\r\u001b[K     |███████████████▉                | 512 kB 26.8 MB/s eta 0:00:01\r\u001b[K     |████████████████▏               | 522 kB 26.8 MB/s eta 0:00:01\r\u001b[K     |████████████████▌               | 532 kB 26.8 MB/s eta 0:00:01\r\u001b[K     |████████████████▉               | 542 kB 26.8 MB/s eta 0:00:01\r\u001b[K     |█████████████████▏              | 552 kB 26.8 MB/s eta 0:00:01\r\u001b[K     |█████████████████▌              | 563 kB 26.8 MB/s eta 0:00:01\r\u001b[K     |█████████████████▉              | 573 kB 26.8 MB/s eta 0:00:01\r\u001b[K     |██████████████████              | 583 kB 26.8 MB/s eta 0:00:01\r\u001b[K     |██████████████████▍             | 593 kB 26.8 MB/s eta 0:00:01\r\u001b[K     |██████████████████▊             | 604 kB 26.8 MB/s eta 0:00:01\r\u001b[K     |███████████████████             | 614 kB 26.8 MB/s eta 0:00:01\r\u001b[K     |███████████████████▍            | 624 kB 26.8 MB/s eta 0:00:01\r\u001b[K     |███████████████████▊            | 634 kB 26.8 MB/s eta 0:00:01\r\u001b[K     |████████████████████            | 645 kB 26.8 MB/s eta 0:00:01\r\u001b[K     |████████████████████▎           | 655 kB 26.8 MB/s eta 0:00:01\r\u001b[K     |████████████████████▋           | 665 kB 26.8 MB/s eta 0:00:01\r\u001b[K     |█████████████████████           | 675 kB 26.8 MB/s eta 0:00:01\r\u001b[K     |█████████████████████▎          | 686 kB 26.8 MB/s eta 0:00:01\r\u001b[K     |█████████████████████▋          | 696 kB 26.8 MB/s eta 0:00:01\r\u001b[K     |██████████████████████          | 706 kB 26.8 MB/s eta 0:00:01\r\u001b[K     |██████████████████████▎         | 716 kB 26.8 MB/s eta 0:00:01\r\u001b[K     |██████████████████████▋         | 727 kB 26.8 MB/s eta 0:00:01\r\u001b[K     |██████████████████████▉         | 737 kB 26.8 MB/s eta 0:00:01\r\u001b[K     |███████████████████████▏        | 747 kB 26.8 MB/s eta 0:00:01\r\u001b[K     |███████████████████████▌        | 757 kB 26.8 MB/s eta 0:00:01\r\u001b[K     |███████████████████████▉        | 768 kB 26.8 MB/s eta 0:00:01\r\u001b[K     |████████████████████████▏       | 778 kB 26.8 MB/s eta 0:00:01\r\u001b[K     |████████████████████████▌       | 788 kB 26.8 MB/s eta 0:00:01\r\u001b[K     |████████████████████████▉       | 798 kB 26.8 MB/s eta 0:00:01\r\u001b[K     |█████████████████████████       | 808 kB 26.8 MB/s eta 0:00:01\r\u001b[K     |█████████████████████████▍      | 819 kB 26.8 MB/s eta 0:00:01\r\u001b[K     |█████████████████████████▊      | 829 kB 26.8 MB/s eta 0:00:01\r\u001b[K     |██████████████████████████      | 839 kB 26.8 MB/s eta 0:00:01\r\u001b[K     |██████████████████████████▍     | 849 kB 26.8 MB/s eta 0:00:01\r\u001b[K     |██████████████████████████▊     | 860 kB 26.8 MB/s eta 0:00:01\r\u001b[K     |███████████████████████████     | 870 kB 26.8 MB/s eta 0:00:01\r\u001b[K     |███████████████████████████▎    | 880 kB 26.8 MB/s eta 0:00:01\r\u001b[K     |███████████████████████████▋    | 890 kB 26.8 MB/s eta 0:00:01\r\u001b[K     |████████████████████████████    | 901 kB 26.8 MB/s eta 0:00:01\r\u001b[K     |████████████████████████████▎   | 911 kB 26.8 MB/s eta 0:00:01\r\u001b[K     |████████████████████████████▋   | 921 kB 26.8 MB/s eta 0:00:01\r\u001b[K     |█████████████████████████████   | 931 kB 26.8 MB/s eta 0:00:01\r\u001b[K     |█████████████████████████████▎  | 942 kB 26.8 MB/s eta 0:00:01\r\u001b[K     |█████████████████████████████▌  | 952 kB 26.8 MB/s eta 0:00:01\r\u001b[K     |█████████████████████████████▉  | 962 kB 26.8 MB/s eta 0:00:01\r\u001b[K     |██████████████████████████████▏ | 972 kB 26.8 MB/s eta 0:00:01\r\u001b[K     |██████████████████████████████▌ | 983 kB 26.8 MB/s eta 0:00:01\r\u001b[K     |██████████████████████████████▉ | 993 kB 26.8 MB/s eta 0:00:01\r\u001b[K     |███████████████████████████████▏| 1.0 MB 26.8 MB/s eta 0:00:01\r\u001b[K     |███████████████████████████████▌| 1.0 MB 26.8 MB/s eta 0:00:01\r\u001b[K     |███████████████████████████████▊| 1.0 MB 26.8 MB/s eta 0:00:01\r\u001b[K     |████████████████████████████████| 1.0 MB 26.8 MB/s \n",
            "\u001b[?25hRequirement already satisfied: shapely>=1.6 in /usr/local/lib/python3.7/dist-packages (from geopandas) (1.8.0)\n",
            "Collecting fiona>=1.8\n",
            "  Downloading Fiona-1.8.20-cp37-cp37m-manylinux1_x86_64.whl (15.4 MB)\n",
            "\u001b[K     |████████████████████████████████| 15.4 MB 48.9 MB/s \n",
            "\u001b[?25hRequirement already satisfied: pandas>=0.25.0 in /usr/local/lib/python3.7/dist-packages (from geopandas) (1.3.5)\n",
            "Collecting pyproj>=2.2.0\n",
            "  Downloading pyproj-3.2.1-cp37-cp37m-manylinux2010_x86_64.whl (6.3 MB)\n",
            "\u001b[K     |████████████████████████████████| 6.3 MB 48.3 MB/s \n",
            "\u001b[?25hCollecting munch\n",
            "  Downloading munch-2.5.0-py2.py3-none-any.whl (10 kB)\n",
            "Requirement already satisfied: certifi in /usr/local/lib/python3.7/dist-packages (from fiona>=1.8->geopandas) (2021.10.8)\n",
            "Requirement already satisfied: six>=1.7 in /usr/local/lib/python3.7/dist-packages (from fiona>=1.8->geopandas) (1.15.0)\n",
            "Requirement already satisfied: setuptools in /usr/local/lib/python3.7/dist-packages (from fiona>=1.8->geopandas) (57.4.0)\n",
            "Collecting cligj>=0.5\n",
            "  Downloading cligj-0.7.2-py3-none-any.whl (7.1 kB)\n",
            "Requirement already satisfied: attrs>=17 in /usr/local/lib/python3.7/dist-packages (from fiona>=1.8->geopandas) (21.4.0)\n",
            "Requirement already satisfied: click>=4.0 in /usr/local/lib/python3.7/dist-packages (from fiona>=1.8->geopandas) (7.1.2)\n",
            "Collecting click-plugins>=1.0\n",
            "  Downloading click_plugins-1.1.1-py2.py3-none-any.whl (7.5 kB)\n",
            "Requirement already satisfied: pytz>=2017.3 in /usr/local/lib/python3.7/dist-packages (from pandas>=0.25.0->geopandas) (2018.9)\n",
            "Requirement already satisfied: numpy>=1.17.3 in /usr/local/lib/python3.7/dist-packages (from pandas>=0.25.0->geopandas) (1.19.5)\n",
            "Requirement already satisfied: python-dateutil>=2.7.3 in /usr/local/lib/python3.7/dist-packages (from pandas>=0.25.0->geopandas) (2.8.2)\n",
            "Installing collected packages: munch, cligj, click-plugins, pyproj, fiona, geopandas\n",
            "Successfully installed click-plugins-1.1.1 cligj-0.7.2 fiona-1.8.20 geopandas-0.10.2 munch-2.5.0 pyproj-3.2.1\n"
          ]
        },
        {
          "output_type": "execute_result",
          "data": {
            "text/html": [
              "\n",
              "  <div id=\"df-079c9983-39b2-44a8-813d-16f65db08823\">\n",
              "    <div class=\"colab-df-container\">\n",
              "      <div>\n",
              "<style scoped>\n",
              "    .dataframe tbody tr th:only-of-type {\n",
              "        vertical-align: middle;\n",
              "    }\n",
              "\n",
              "    .dataframe tbody tr th {\n",
              "        vertical-align: top;\n",
              "    }\n",
              "\n",
              "    .dataframe thead th {\n",
              "        text-align: right;\n",
              "    }\n",
              "</style>\n",
              "<table border=\"1\" class=\"dataframe\">\n",
              "  <thead>\n",
              "    <tr style=\"text-align: right;\">\n",
              "      <th></th>\n",
              "      <th>id</th>\n",
              "      <th>city</th>\n",
              "      <th>label</th>\n",
              "      <th>yr1970</th>\n",
              "      <th>yr1975</th>\n",
              "      <th>yr1980</th>\n",
              "      <th>yr1985</th>\n",
              "      <th>yr1990</th>\n",
              "      <th>yr1995</th>\n",
              "      <th>yr2000</th>\n",
              "      <th>yr2005</th>\n",
              "      <th>yr2010</th>\n",
              "      <th>geometry</th>\n",
              "    </tr>\n",
              "  </thead>\n",
              "  <tbody>\n",
              "    <tr>\n",
              "      <th>0</th>\n",
              "      <td>1</td>\n",
              "      <td>Tokyo</td>\n",
              "      <td>Tokyo</td>\n",
              "      <td>23.30</td>\n",
              "      <td>26.61</td>\n",
              "      <td>28.55</td>\n",
              "      <td>30.30</td>\n",
              "      <td>32.53</td>\n",
              "      <td>33.59</td>\n",
              "      <td>34.45</td>\n",
              "      <td>35.62</td>\n",
              "      <td>36.67</td>\n",
              "      <td>POINT (139.80894 35.68321)</td>\n",
              "    </tr>\n",
              "    <tr>\n",
              "      <th>1</th>\n",
              "      <td>2</td>\n",
              "      <td>New_Delhi</td>\n",
              "      <td>New Delhi</td>\n",
              "      <td>3.53</td>\n",
              "      <td>4.43</td>\n",
              "      <td>5.56</td>\n",
              "      <td>7.33</td>\n",
              "      <td>9.73</td>\n",
              "      <td>12.41</td>\n",
              "      <td>15.73</td>\n",
              "      <td>19.49</td>\n",
              "      <td>22.16</td>\n",
              "      <td>POINT (77.20081 28.60828)</td>\n",
              "    </tr>\n",
              "    <tr>\n",
              "      <th>2</th>\n",
              "      <td>3</td>\n",
              "      <td>Sao_Paulo</td>\n",
              "      <td>Sao Paulo</td>\n",
              "      <td>7.62</td>\n",
              "      <td>9.61</td>\n",
              "      <td>12.09</td>\n",
              "      <td>13.39</td>\n",
              "      <td>14.78</td>\n",
              "      <td>15.95</td>\n",
              "      <td>17.10</td>\n",
              "      <td>18.65</td>\n",
              "      <td>20.26</td>\n",
              "      <td>POINT (-46.65464 -23.56284)</td>\n",
              "    </tr>\n",
              "    <tr>\n",
              "      <th>3</th>\n",
              "      <td>4</td>\n",
              "      <td>Mumbai</td>\n",
              "      <td>Mumbai</td>\n",
              "      <td>5.81</td>\n",
              "      <td>7.08</td>\n",
              "      <td>8.66</td>\n",
              "      <td>10.34</td>\n",
              "      <td>12.31</td>\n",
              "      <td>14.11</td>\n",
              "      <td>16.09</td>\n",
              "      <td>18.21</td>\n",
              "      <td>20.04</td>\n",
              "      <td>POINT (72.83009 18.93013)</td>\n",
              "    </tr>\n",
              "    <tr>\n",
              "      <th>4</th>\n",
              "      <td>5</td>\n",
              "      <td>Mexico_City</td>\n",
              "      <td>Mexico City</td>\n",
              "      <td>8.77</td>\n",
              "      <td>10.69</td>\n",
              "      <td>13.01</td>\n",
              "      <td>14.11</td>\n",
              "      <td>15.31</td>\n",
              "      <td>16.81</td>\n",
              "      <td>18.02</td>\n",
              "      <td>18.73</td>\n",
              "      <td>19.46</td>\n",
              "      <td>POINT (-99.13316 19.43196)</td>\n",
              "    </tr>\n",
              "  </tbody>\n",
              "</table>\n",
              "</div>\n",
              "      <button class=\"colab-df-convert\" onclick=\"convertToInteractive('df-079c9983-39b2-44a8-813d-16f65db08823')\"\n",
              "              title=\"Convert this dataframe to an interactive table.\"\n",
              "              style=\"display:none;\">\n",
              "        \n",
              "  <svg xmlns=\"http://www.w3.org/2000/svg\" height=\"24px\"viewBox=\"0 0 24 24\"\n",
              "       width=\"24px\">\n",
              "    <path d=\"M0 0h24v24H0V0z\" fill=\"none\"/>\n",
              "    <path d=\"M18.56 5.44l.94 2.06.94-2.06 2.06-.94-2.06-.94-.94-2.06-.94 2.06-2.06.94zm-11 1L8.5 8.5l.94-2.06 2.06-.94-2.06-.94L8.5 2.5l-.94 2.06-2.06.94zm10 10l.94 2.06.94-2.06 2.06-.94-2.06-.94-.94-2.06-.94 2.06-2.06.94z\"/><path d=\"M17.41 7.96l-1.37-1.37c-.4-.4-.92-.59-1.43-.59-.52 0-1.04.2-1.43.59L10.3 9.45l-7.72 7.72c-.78.78-.78 2.05 0 2.83L4 21.41c.39.39.9.59 1.41.59.51 0 1.02-.2 1.41-.59l7.78-7.78 2.81-2.81c.8-.78.8-2.07 0-2.86zM5.41 20L4 18.59l7.72-7.72 1.47 1.35L5.41 20z\"/>\n",
              "  </svg>\n",
              "      </button>\n",
              "      \n",
              "  <style>\n",
              "    .colab-df-container {\n",
              "      display:flex;\n",
              "      flex-wrap:wrap;\n",
              "      gap: 12px;\n",
              "    }\n",
              "\n",
              "    .colab-df-convert {\n",
              "      background-color: #E8F0FE;\n",
              "      border: none;\n",
              "      border-radius: 50%;\n",
              "      cursor: pointer;\n",
              "      display: none;\n",
              "      fill: #1967D2;\n",
              "      height: 32px;\n",
              "      padding: 0 0 0 0;\n",
              "      width: 32px;\n",
              "    }\n",
              "\n",
              "    .colab-df-convert:hover {\n",
              "      background-color: #E2EBFA;\n",
              "      box-shadow: 0px 1px 2px rgba(60, 64, 67, 0.3), 0px 1px 3px 1px rgba(60, 64, 67, 0.15);\n",
              "      fill: #174EA6;\n",
              "    }\n",
              "\n",
              "    [theme=dark] .colab-df-convert {\n",
              "      background-color: #3B4455;\n",
              "      fill: #D2E3FC;\n",
              "    }\n",
              "\n",
              "    [theme=dark] .colab-df-convert:hover {\n",
              "      background-color: #434B5C;\n",
              "      box-shadow: 0px 1px 3px 1px rgba(0, 0, 0, 0.15);\n",
              "      filter: drop-shadow(0px 1px 2px rgba(0, 0, 0, 0.3));\n",
              "      fill: #FFFFFF;\n",
              "    }\n",
              "  </style>\n",
              "\n",
              "      <script>\n",
              "        const buttonEl =\n",
              "          document.querySelector('#df-079c9983-39b2-44a8-813d-16f65db08823 button.colab-df-convert');\n",
              "        buttonEl.style.display =\n",
              "          google.colab.kernel.accessAllowed ? 'block' : 'none';\n",
              "\n",
              "        async function convertToInteractive(key) {\n",
              "          const element = document.querySelector('#df-079c9983-39b2-44a8-813d-16f65db08823');\n",
              "          const dataTable =\n",
              "            await google.colab.kernel.invokeFunction('convertToInteractive',\n",
              "                                                     [key], {});\n",
              "          if (!dataTable) return;\n",
              "\n",
              "          const docLinkHtml = 'Like what you see? Visit the ' +\n",
              "            '<a target=\"_blank\" href=https://colab.research.google.com/notebooks/data_table.ipynb>data table notebook</a>'\n",
              "            + ' to learn more about interactive tables.';\n",
              "          element.innerHTML = '';\n",
              "          dataTable['output_type'] = 'display_data';\n",
              "          await google.colab.output.renderOutput(dataTable, element);\n",
              "          const docLink = document.createElement('div');\n",
              "          docLink.innerHTML = docLinkHtml;\n",
              "          element.appendChild(docLink);\n",
              "        }\n",
              "      </script>\n",
              "    </div>\n",
              "  </div>\n",
              "  "
            ],
            "text/plain": [
              "   id         city        label  ...  yr2005  yr2010                     geometry\n",
              "0   1        Tokyo        Tokyo  ...   35.62   36.67   POINT (139.80894 35.68321)\n",
              "1   2    New_Delhi    New Delhi  ...   19.49   22.16    POINT (77.20081 28.60828)\n",
              "2   3    Sao_Paulo    Sao Paulo  ...   18.65   20.26  POINT (-46.65464 -23.56284)\n",
              "3   4       Mumbai       Mumbai  ...   18.21   20.04    POINT (72.83009 18.93013)\n",
              "4   5  Mexico_City  Mexico City  ...   18.73   19.46   POINT (-99.13316 19.43196)\n",
              "\n",
              "[5 rows x 13 columns]"
            ]
          },
          "metadata": {},
          "execution_count": 30
        }
      ]
    },
    {
      "cell_type": "code",
      "source": [
        "cityPopGpd.to_file(\"CityPop.shp\")"
      ],
      "metadata": {
        "id": "3sCFucu3FBMp"
      },
      "execution_count": 31,
      "outputs": []
    },
    {
      "cell_type": "markdown",
      "source": [
        "Task 4: Load the CityPop.shp file and create a simple map with world map as basemap. "
      ],
      "metadata": {
        "id": "0bqKmukOF-VS"
      }
    },
    {
      "cell_type": "code",
      "source": [
        "world = gpd.read_file(gpd.datasets.get_path('naturalearth_lowres')) # read world data\n",
        "base = world.plot(color='#c1c1c1', edgecolor='#393a39') # base map\n",
        "cityPopGpd.plot(ax=base, marker='o', color='#f37a65', markersize=8) # plot cities on the map"
      ],
      "metadata": {
        "colab": {
          "base_uri": "https://localhost:8080/",
          "height": 231
        },
        "id": "CODfGZrlGEst",
        "outputId": "c199c6f6-4dbb-48e7-f826-d8f9a154fff5"
      },
      "execution_count": 36,
      "outputs": [
        {
          "output_type": "execute_result",
          "data": {
            "text/plain": [
              "<matplotlib.axes._subplots.AxesSubplot at 0x7f321d2f00d0>"
            ]
          },
          "metadata": {},
          "execution_count": 36
        },
        {
          "output_type": "display_data",
          "data": {
            "image/png": "[encoded data removed]",
            "text/plain": [
              "<Figure size 432x288 with 1 Axes>"
            ]
          },
          "metadata": {
            "needs_background": "light"
          }
        }
      ]
    }
  ]
}